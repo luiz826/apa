{
  "nbformat": 4,
  "nbformat_minor": 0,
  "metadata": {
    "colab": {
      "provenance": []
    },
    "kernelspec": {
      "name": "python3",
      "display_name": "Python 3"
    },
    "language_info": {
      "name": "python"
    }
  },
  "cells": [
    {
      "cell_type": "code",
      "execution_count": 1,
      "metadata": {
        "id": "5QzieRI7b4ZM"
      },
      "outputs": [],
      "source": [
        "# Não li o arquivo, só coloquei as informações aqui\n",
        "num_presentes = 30\n",
        "num_trenos = 30\n",
        "capacidade_max_por_treno = 150\n",
        "num_elementos = 25 # Restrições\n",
        "\n",
        "pesos = [97, 57, 81, 62, 75, 81, 23, 43, 50, 38, 60, 58, 70, 88, 36, 90, 37, 45, 45, 39, 44, 53, 70, 24, 82, 81, 47, 97, 35, 65]"
      ]
    },
    {
      "cell_type": "code",
      "source": [
        "n_pode_ficar_juntos = [(1, 8),\n",
        "(1, 14),\n",
        "(2, 11),\n",
        "(3, 24),\n",
        "(4, 5),\n",
        "(4, 22),\n",
        "(5, 11),\n",
        "(5, 13),\n",
        "(5, 15),\n",
        "(5, 24),\n",
        "(5, 25),\n",
        "(6, 16),\n",
        "(7, 15),\n",
        "(7, 27),\n",
        "(8, 18),\n",
        "(8, 19),\n",
        "(9, 13),\n",
        "(9, 16),\n",
        "(10, 11),\n",
        "(11, 13),\n",
        "(17, 23),\n",
        "(17, 26),\n",
        "(22, 24),\n",
        "(24, 26),\n",
        "(26, 27)]"
      ],
      "metadata": {
        "id": "AQlSIfFLcVL8"
      },
      "execution_count": 2,
      "outputs": []
    },
    {
      "cell_type": "code",
      "source": [
        "trenos = {}\n",
        "for i in range(1, num_trenos+1):\n",
        "  trenos[i] = []\n",
        "\n",
        "dict_pesos = {}\n",
        "for i in range(1, num_presentes+1):\n",
        "  dict_pesos[i] = pesos[i-1]\n",
        "\n",
        "dict_pesos_ordenado = {}\n",
        "for i in sorted(dict_pesos, key = dict_pesos.get, reverse=True):\n",
        "  dict_pesos_ordenado[i] = dict_pesos[i]"
      ],
      "metadata": {
        "id": "AAEp0hwZoYxv"
      },
      "execution_count": 3,
      "outputs": []
    },
    {
      "cell_type": "code",
      "source": [
        "dict_pesos_ordenado"
      ],
      "metadata": {
        "colab": {
          "base_uri": "https://localhost:8080/"
        },
        "id": "QgtcHvEx9kZp",
        "outputId": "75f00bcd-5b0d-44ad-e99f-e617f5d1aeb3"
      },
      "execution_count": 4,
      "outputs": [
        {
          "output_type": "execute_result",
          "data": {
            "text/plain": [
              "{1: 97,\n",
              " 28: 97,\n",
              " 16: 90,\n",
              " 14: 88,\n",
              " 25: 82,\n",
              " 3: 81,\n",
              " 6: 81,\n",
              " 26: 81,\n",
              " 5: 75,\n",
              " 13: 70,\n",
              " 23: 70,\n",
              " 30: 65,\n",
              " 4: 62,\n",
              " 11: 60,\n",
              " 12: 58,\n",
              " 2: 57,\n",
              " 22: 53,\n",
              " 9: 50,\n",
              " 27: 47,\n",
              " 18: 45,\n",
              " 19: 45,\n",
              " 21: 44,\n",
              " 8: 43,\n",
              " 20: 39,\n",
              " 10: 38,\n",
              " 17: 37,\n",
              " 15: 36,\n",
              " 29: 35,\n",
              " 24: 24,\n",
              " 7: 23}"
            ]
          },
          "metadata": {},
          "execution_count": 4
        }
      ]
    },
    {
      "cell_type": "code",
      "source": [
        "for indice_presente, valor_presente in dict_pesos_ordenado.items(): # Para cada presente em ordem decrescente\n",
        "  flag = 0\n",
        "  aux_treno = 1\n",
        "  while flag != 1: # While para a mudança de trenós\n",
        "    soma_pesos_no_treno = 0\n",
        "\n",
        "    if len(trenos[aux_treno]) == 0: # Se o trenó estiver vazio\n",
        "      trenos[aux_treno].append(indice_presente) # Já pode adicionar no indice\n",
        "      flag = 1\n",
        "\n",
        "    else:\n",
        "      for p in trenos[aux_treno]:\n",
        "        soma_pesos_no_treno += dict_pesos_ordenado[p]\n",
        "\n",
        "      # print(\"Num trenó: \", aux_treno)\n",
        "      # print(\"Soma presentes no trenó: \", soma_pesos_no_treno)\n",
        "      # print(\"Valor do presente atual: \", valor_presente)\n",
        "\n",
        "      if soma_pesos_no_treno + valor_presente <= capacidade_max_por_treno: # Se a soma de quem já está no trenó da vez + o presente for menor que a capacidade max\n",
        "        # Abaixo tem que ser uma copy pq ele tá mudando em tempo de execução. Poderia ser um break lá no else onde coloco flag = 1 tbm\n",
        "        for item in trenos[aux_treno].copy(): # Para todos os itens que já estão no trenó\n",
        "          if (indice_presente, item) in n_pode_ficar_juntos: # Checa se a combinação não está na restrição\n",
        "            aux_treno += 1 # Se estiver vai pro proximo treno\n",
        "          elif (item, indice_presente) in n_pode_ficar_juntos:\n",
        "            aux_treno += 1\n",
        "          else:\n",
        "            trenos[aux_treno].append(indice_presente) # Se passou por tudo, pode adicionar no indice\n",
        "            flag = 1 # Muda a flag pra ir pro proximo item do loop            \n",
        "      else:\n",
        "        aux_treno += 1"
      ],
      "metadata": {
        "id": "xIESkRpeg1Fa"
      },
      "execution_count": 5,
      "outputs": []
    },
    {
      "cell_type": "code",
      "source": [
        "trenos"
      ],
      "metadata": {
        "colab": {
          "base_uri": "https://localhost:8080/"
        },
        "id": "kk0HZbzK-rQV",
        "outputId": "0026c382-6e15-4d24-cc6c-0f68c9722cf8"
      },
      "execution_count": 6,
      "outputs": [
        {
          "output_type": "execute_result",
          "data": {
            "text/plain": [
              "{1: [1, 22],\n",
              " 2: [28, 9],\n",
              " 3: [16, 11],\n",
              " 4: [14, 4],\n",
              " 5: [25, 30],\n",
              " 6: [3, 12],\n",
              " 7: [6, 2],\n",
              " 8: [26, 18, 7, 7],\n",
              " 9: [5, 23, 24],\n",
              " 10: [13, 27],\n",
              " 11: [19, 21, 20, 20],\n",
              " 12: [8, 10, 17, 17],\n",
              " 13: [15, 29],\n",
              " 14: [],\n",
              " 15: [],\n",
              " 16: [],\n",
              " 17: [],\n",
              " 18: [],\n",
              " 19: [],\n",
              " 20: [],\n",
              " 21: [],\n",
              " 22: [],\n",
              " 23: [],\n",
              " 24: [],\n",
              " 25: [],\n",
              " 26: [],\n",
              " 27: [],\n",
              " 28: [],\n",
              " 29: [],\n",
              " 30: []}"
            ]
          },
          "metadata": {},
          "execution_count": 6
        }
      ]
    }
  ]
}